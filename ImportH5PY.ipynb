{
 "cells": [
  {
   "cell_type": "code",
   "execution_count": 1,
   "id": "1f429e90-211d-41bb-9e44-6848e1194740",
   "metadata": {
    "execution": {
     "iopub.execute_input": "2021-07-06T20:13:34.754862Z",
     "iopub.status.busy": "2021-07-06T20:13:34.754553Z",
     "iopub.status.idle": "2021-07-06T20:13:35.095112Z",
     "shell.execute_reply": "2021-07-06T20:13:35.094357Z",
     "shell.execute_reply.started": "2021-07-06T20:13:34.754796Z"
    }
   },
   "outputs": [],
   "source": [
    "import h5py"
   ]
  }
 ],
 "metadata": {
  "kernelspec": {
   "display_name": "Python 3",
   "language": "python",
   "name": "python3"
  },
  "language_info": {
   "codemirror_mode": {
    "name": "ipython",
    "version": 3
   },
   "file_extension": ".py",
   "mimetype": "text/x-python",
   "name": "python",
   "nbconvert_exporter": "python",
   "pygments_lexer": "ipython3",
   "version": "3.9.2"
  },
  "widgets": {
   "application/vnd.jupyter.widget-state+json": {
    "state": {},
    "version_major": 2,
    "version_minor": 0
   }
  }
 },
 "nbformat": 4,
 "nbformat_minor": 5
}
